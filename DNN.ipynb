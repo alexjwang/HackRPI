{
 "cells": [
  {
   "cell_type": "code",
   "execution_count": 348,
   "metadata": {},
   "outputs": [
    {
     "name": "stdout",
     "output_type": "stream",
     "text": [
      "2056272\n"
     ]
    }
   ],
   "source": [
    "import pandas as pd\n",
    "import numpy as np\n",
    "import tensorflow as tf\n",
    "from sklearn.model_selection import train_test_split\n",
    "from sklearn.preprocessing import MinMaxScaler\n",
    "\n",
    "# Import data\n",
    "data = pd.read_csv('rides_data.csv')\n",
    "data = data.drop(['Base'], 1)\n",
    "datetimes = data['Date/Time']\n",
    "dayofweek = []\n",
    "hour = []\n",
    "for s in datetimes:\n",
    "    day = int(s.split('/')[1])%7\n",
    "    dayofweek.append(day)\n",
    "    time = int(s.split()[1].split(':')[0])*60+(int(s.split()[1].split(':')[1]))\n",
    "    hour.append(time)\n",
    "data['dayofweek']=dayofweek\n",
    "data['hour']=hour\n",
    "df = data.drop(['Date/Time'], 1)\n",
    "y=df.drop('dayofweek', 1).drop('hour', 1)\n",
    "x=df.drop('Lat', 1).drop('Lon', 1)\n",
    "y.head()\n",
    "print(y.size)"
   ]
  },
  {
   "cell_type": "code",
   "execution_count": 351,
   "metadata": {},
   "outputs": [
    {
     "name": "stdout",
     "output_type": "stream",
     "text": [
      "1129032\n"
     ]
    }
   ],
   "source": [
    "data1 = pd.read_csv('uber-raw-data-apr14.csv')\n",
    "data1 = data1.drop(['Base'], 1)\n",
    "datetimes = data1['Date/Time']\n",
    "dayofweek = []\n",
    "hour = []\n",
    "for s in datetimes:\n",
    "    day = int(s.split('/')[1])%7\n",
    "    dayofweek.append(day)\n",
    "    time = int(s.split()[1].split(':')[0])*60+(int(s.split()[1].split(':')[1]))\n",
    "    hour.append(time)\n",
    "data1['dayofweek']=dayofweek\n",
    "data1['hour']=hour\n",
    "df1 = data1.drop(['Date/Time'], 1)\n",
    "df1.describe()\n",
    "y1= df1.drop('dayofweek', 1).drop('hour', 1)\n",
    "x1=df1.drop('Lat', 1).drop('Lon', 1)\n",
    "y1.head()\n",
    "print(y1.size)"
   ]
  },
  {
   "cell_type": "code",
   "execution_count": 352,
   "metadata": {},
   "outputs": [
    {
     "name": "stdout",
     "output_type": "stream",
     "text": [
      "1658550\n"
     ]
    }
   ],
   "source": [
    "data2 = pd.read_csv('uber-raw-data-aug14.csv')\n",
    "data2 = data2.drop(['Base'], 1)\n",
    "datetimes = data2['Date/Time']\n",
    "dayofweek = []\n",
    "hour = []\n",
    "for s in datetimes:\n",
    "    day = int(s.split('/')[1])%7\n",
    "    dayofweek.append(day)\n",
    "    time = int(s.split()[1].split(':')[0])*60+(int(s.split()[1].split(':')[1]))\n",
    "    hour.append(time)\n",
    "data2['dayofweek']=dayofweek\n",
    "data2['hour']=hour\n",
    "df2 = data2.drop(['Date/Time'], 1)\n",
    "df2.describe()\n",
    "y2= df2.drop('dayofweek', 1).drop('hour', 1)\n",
    "x2=df2.drop('Lat', 1).drop('Lon', 1)\n",
    "y2.head()\n",
    "print(y2.size)"
   ]
  },
  {
   "cell_type": "code",
   "execution_count": 353,
   "metadata": {},
   "outputs": [
    {
     "name": "stdout",
     "output_type": "stream",
     "text": [
      "1592242\n"
     ]
    }
   ],
   "source": [
    "data3 = pd.read_csv('uber-raw-data-jul14.csv')\n",
    "data3 = data3.drop(['Base'], 1)\n",
    "datetimes = data3['Date/Time']\n",
    "dayofweek = []\n",
    "hour = []\n",
    "for s in datetimes:\n",
    "    day = int(s.split('/')[1])%7\n",
    "    dayofweek.append(day)\n",
    "    time = int(s.split()[1].split(':')[0])*60+(int(s.split()[1].split(':')[1]))\n",
    "    hour.append(time)\n",
    "data3['dayofweek']=dayofweek\n",
    "data3['hour']=hour\n",
    "df3 = data3.drop(['Date/Time'], 1)\n",
    "df3.describe()\n",
    "y3= df3.drop('dayofweek', 1).drop('hour', 1)\n",
    "x3=df3.drop('Lat', 1).drop('Lon', 1)\n",
    "y3.head()\n",
    "print(y3.size)"
   ]
  },
  {
   "cell_type": "code",
   "execution_count": 354,
   "metadata": {},
   "outputs": [
    {
     "name": "stdout",
     "output_type": "stream",
     "text": [
      "1327688\n"
     ]
    }
   ],
   "source": [
    "data4 = pd.read_csv('uber-raw-data-jun14.csv')\n",
    "data4 = data4.drop(['Base'], 1)\n",
    "datetimes = data4['Date/Time']\n",
    "dayofweek = []\n",
    "hour = []\n",
    "for s in datetimes:\n",
    "    day = int(s.split('/')[1])%7\n",
    "    dayofweek.append(day)\n",
    "    time = int(s.split()[1].split(':')[0])*60+(int(s.split()[1].split(':')[1]))\n",
    "    hour.append(time)\n",
    "data4['dayofweek']=dayofweek\n",
    "data4['hour']=hour\n",
    "df4 = data4.drop(['Date/Time'], 1)\n",
    "df4.describe()\n",
    "y4= df4.drop('dayofweek', 1).drop('hour', 1)\n",
    "x4=df4.drop('Lat', 1).drop('Lon', 1)\n",
    "y4.head()\n",
    "print(y4.size)"
   ]
  },
  {
   "cell_type": "code",
   "execution_count": 355,
   "metadata": {},
   "outputs": [
    {
     "name": "stdout",
     "output_type": "stream",
     "text": [
      "1304870\n"
     ]
    }
   ],
   "source": [
    "data5 = pd.read_csv('uber-raw-data-may14.csv')\n",
    "data5 = data5.drop(['Base'], 1)\n",
    "datetimes = data5['Date/Time']\n",
    "dayofweek = []\n",
    "hour = []\n",
    "for s in datetimes:\n",
    "    day = int(s.split('/')[1])%7\n",
    "    dayofweek.append(day)\n",
    "    time = int(s.split()[1].split(':')[0])*60+(int(s.split()[1].split(':')[1]))\n",
    "    hour.append(time)\n",
    "data5['dayofweek']=dayofweek\n",
    "data5['hour']=hour\n",
    "df5 = data5.drop(['Date/Time'], 1)\n",
    "df5.describe()\n",
    "y5= df5.drop('dayofweek', 1).drop('hour', 1)\n",
    "x5=df5.drop('Lat', 1).drop('Lon', 1)\n",
    "y5.head()\n",
    "print(y5.size)"
   ]
  },
  {
   "cell_type": "code",
   "execution_count": 356,
   "metadata": {},
   "outputs": [
    {
     "data": {
      "text/plain": [
       "(4534327, 2)"
      ]
     },
     "execution_count": 356,
     "metadata": {},
     "output_type": "execute_result"
    }
   ],
   "source": [
    "xmaster = pd.concat([x,x1,x2,x3, x4, x5])\n",
    "ymaster = pd.concat([y,y1,y2,y3, y4, y5])\n",
    "ymaster.shape"
   ]
  },
  {
   "cell_type": "code",
   "execution_count": 357,
   "metadata": {},
   "outputs": [
    {
     "name": "stdout",
     "output_type": "stream",
     "text": [
      "8400000\n"
     ]
    }
   ],
   "source": [
    "print(xmaster[0:4200000].size)"
   ]
  },
  {
   "cell_type": "code",
   "execution_count": 371,
   "metadata": {},
   "outputs": [
    {
     "data": {
      "text/plain": [
       "100000"
      ]
     },
     "execution_count": 371,
     "metadata": {},
     "output_type": "execute_result"
    }
   ],
   "source": [
    "# print(xmaster[0:3000000])\n",
    "xtrain=xmaster[0:1000000]\n",
    "ytrain=ymaster[0:1000000]\n",
    "xtest=xmaster[1000000:1050000]\n",
    "ytest=ymaster[1000000:1050000]\n",
    "xtest.size"
   ]
  },
  {
   "cell_type": "code",
   "execution_count": 372,
   "metadata": {},
   "outputs": [
    {
     "name": "stdout",
     "output_type": "stream",
     "text": [
      "Epoch 1/10\n",
      "1000000/1000000 [==============================] - 82s 82us/step - loss: 14.1650\n",
      "Epoch 2/10\n",
      "1000000/1000000 [==============================] - 74s 74us/step - loss: 1.0741\n",
      "Epoch 3/10\n",
      "1000000/1000000 [==============================] - 75s 75us/step - loss: 0.6410\n",
      "Epoch 4/10\n",
      "1000000/1000000 [==============================] - 76s 76us/step - loss: 0.4124\n",
      "Epoch 5/10\n",
      "1000000/1000000 [==============================] - 76s 76us/step - loss: 0.3400\n",
      "Epoch 6/10\n",
      "1000000/1000000 [==============================] - 75s 75us/step - loss: 0.2692\n",
      "Epoch 7/10\n",
      "1000000/1000000 [==============================] - 70s 70us/step - loss: 0.2216\n",
      "Epoch 8/10\n",
      "1000000/1000000 [==============================] - 72s 72us/step - loss: 0.1922\n",
      "Epoch 9/10\n",
      "1000000/1000000 [==============================] - 70s 70us/step - loss: 0.1797\n",
      "Epoch 10/10\n",
      "1000000/1000000 [==============================] - 76s 76us/step - loss: 0.1613\n"
     ]
    },
    {
     "data": {
      "text/plain": [
       "<keras.callbacks.History at 0x240c43b8470>"
      ]
     },
     "execution_count": 372,
     "metadata": {},
     "output_type": "execute_result"
    }
   ],
   "source": [
    "from __future__ import print_function\n",
    "from keras.layers import Input, Concatenate, Dense, Activation, LSTM, Embedding\n",
    "from keras.models import Sequential, Model\n",
    "from sklearn import preprocessing\n",
    "import numpy as np\n",
    "\n",
    "input_tensor = Input(shape=(2,))\n",
    "#x = Embedding(output_dim=512, input_dim=None)(input_tensor)\n",
    "#x = LSTM(24443,)(input_tensor)\n",
    "intermediate = Dense(500, activation='relu')(input_tensor)\n",
    "# x = Dense(500, activation='tanh')(x)\n",
    "output_tensor = Dense(2)(intermediate)\n",
    "\n",
    "model = Model(input_tensor, output_tensor)\n",
    "\n",
    "model.compile(optimizer='adam', loss='mean_squared_error')\n",
    "\n",
    "model.fit(xtrain, ytrain, epochs=10)\n",
    "\n",
    "# model.compile(optimizer='adam', loss='mean_squared_error')\n",
    "\n",
    "# model.fit(xtrain, ytrain, epochs=400)\n",
    "\n",
    "# model.get_weights()"
   ]
  },
  {
   "cell_type": "code",
   "execution_count": 366,
   "metadata": {},
   "outputs": [
    {
     "name": "stdout",
     "output_type": "stream",
     "text": [
      "[[ 42.08129 -76.10826]\n",
      " [ 42.08129 -76.10826]\n",
      " [ 42.08129 -76.10826]\n",
      " ...\n",
      " [ 42.38156 -76.2602 ]\n",
      " [ 42.38442 -76.26331]\n",
      " [ 42.38442 -76.26331]]\n"
     ]
    }
   ],
   "source": [
    "forecast = model.predict(xtest)\n",
    "print(forecast)"
   ]
  },
  {
   "cell_type": "code",
   "execution_count": 369,
   "metadata": {},
   "outputs": [
    {
     "data": {
      "image/png": "[encoded data removed]",
      "text/plain": [
       "<Figure size 432x288 with 1 Axes>"
      ]
     },
     "metadata": {},
     "output_type": "display_data"
    }
   ],
   "source": [
    "import matplotlib.pyplot as plt\n",
    "plt.scatter(ytest[['Lat']], ytest[['Lon']])\n",
    "plt.show()"
   ]
  },
  {
   "cell_type": "code",
   "execution_count": 367,
   "metadata": {},
   "outputs": [
    {
     "data": {
      "image/png": "[encoded data removed]",
      "text/plain": [
       "<Figure size 432x288 with 1 Axes>"
      ]
     },
     "metadata": {},
     "output_type": "display_data"
    }
   ],
   "source": [
    "plt.scatter(forecast[:,0], forecast[:,1])\n",
    "plt.show()"
   ]
  },
  {
   "cell_type": "code",
   "execution_count": null,
   "metadata": {},
   "outputs": [],
   "source": []
  }
 ],
 "metadata": {
  "kernelspec": {
   "display_name": "Python 3",
   "language": "python",
   "name": "python3"
  },
  "language_info": {
   "codemirror_mode": {
    "name": "ipython",
    "version": 3
   },
   "file_extension": ".py",
   "mimetype": "text/x-python",
   "name": "python",
   "nbconvert_exporter": "python",
   "pygments_lexer": "ipython3",
   "version": "3.6.5"
  }
 },
 "nbformat": 4,
 "nbformat_minor": 2
}
